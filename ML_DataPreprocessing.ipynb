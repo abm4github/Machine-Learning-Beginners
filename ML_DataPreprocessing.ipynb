{
  "nbformat": 4,
  "nbformat_minor": 0,
  "metadata": {
    "colab": {
      "name": "SDS_ML_S2_DataPreprocessing",
      "provenance": [],
      "collapsed_sections": [],
      "authorship_tag": "ABX9TyPqLb5l/057zwgA/F7vJo8/",
      "include_colab_link": true
    },
    "kernelspec": {
      "name": "python3",
      "display_name": "Python 3"
    },
    "language_info": {
      "name": "python"
    }
  },
  "cells": [
    {
      "cell_type": "markdown",
      "metadata": {
        "id": "view-in-github",
        "colab_type": "text"
      },
      "source": [
        "<a href=\"https://colab.research.google.com/github/abm4github/Machine-Learning-Beginners/blob/main/ML_DataPreprocessing.ipynb\" target=\"_parent\"><img src=\"https://colab.research.google.com/assets/colab-badge.svg\" alt=\"Open In Colab\"/></a>"
      ]
    },
    {
      "cell_type": "markdown",
      "metadata": {
        "id": "LOa5LqWVWmDj"
      },
      "source": [
        " **MACHINE LEARNING**"
      ]
    },
    {
      "cell_type": "markdown",
      "metadata": {
        "id": "xN8K5ly8B5vU"
      },
      "source": [
        "**Data Preprocessing**   \n",
        "It is  essential to clean data before using it in modeling. Here we see the steps that are involved in data preprocessing."
      ]
    },
    {
      "cell_type": "code",
      "metadata": {
        "id": "C7jJhZmpxvXJ"
      },
      "source": [
        "# importing libraries\n",
        "import pandas as pd\n",
        "import numpy as np\n",
        "import matplotlib.pyplot as plt"
      ],
      "execution_count": 50,
      "outputs": []
    },
    {
      "cell_type": "code",
      "metadata": {
        "id": "KR5ksP239tUI"
      },
      "source": [
        "# loading data\n",
        "dataset = pd.read_csv('dataprep.csv')\n",
        "X = dataset.iloc[:, :-1].values\n",
        "y = dataset.iloc[:, -1].values"
      ],
      "execution_count": 51,
      "outputs": []
    },
    {
      "cell_type": "markdown",
      "metadata": {
        "id": "rOFYe6RsQKtZ"
      },
      "source": [
        "**Missing Data**\n",
        "missing data can be removed if the data is very large and missing values are merely one percent. If not, the numerical type missing values can be replaced with mean, median and categorical values can be replaced with 'most_frequent'ly occuring values."
      ]
    },
    {
      "cell_type": "code",
      "metadata": {
        "id": "Y2B3yPMt-U4v"
      },
      "source": [
        "# handling missing values (numerical)\n",
        "# imputing numerical type \n",
        "from sklearn.impute import SimpleImputer\n",
        "imputer_numerical = SimpleImputer(missing_values = np.nan, strategy = 'mean')\n",
        "imputer_numerical.fit(X[:, 1:3])\n",
        "X[:, 1:3] = imputer_numerical.transform(X[:, 1:3])"
      ],
      "execution_count": 52,
      "outputs": []
    },
    {
      "cell_type": "code",
      "metadata": {
        "id": "aulTZci5Lp-_"
      },
      "source": [
        "# handling missing values (categorical)\n",
        "# imputing categorical type\n",
        "\n",
        "imputer_categorical = SimpleImputer(strategy='most_frequent')\n",
        "imputer_categorical.fit(X)\n",
        "X = imputer_categorical.transform(X)"
      ],
      "execution_count": 53,
      "outputs": []
    },
    {
      "cell_type": "code",
      "metadata": {
        "colab": {
          "base_uri": "https://localhost:8080/"
        },
        "id": "GolA9OaCNYHL",
        "outputId": "06485f6e-5933-494f-d957-024535670b5f"
      },
      "source": [
        "# the changes are visible on X\n",
        "print(X)"
      ],
      "execution_count": 54,
      "outputs": [
        {
          "output_type": "stream",
          "name": "stdout",
          "text": [
            "[['France' 44.0 72000.0]\n",
            " ['Spain' 27.0 48000.0]\n",
            " ['Germany' 30.0 54000.0]\n",
            " ['Spain' 38.0 61000.0]\n",
            " ['Germany' 40.0 63777.77777777778]\n",
            " ['France' 35.0 58000.0]\n",
            " ['Spain' 38.77777777777778 52000.0]\n",
            " ['France' 48.0 79000.0]\n",
            " ['France' 50.0 83000.0]\n",
            " ['France' 37.0 67000.0]]\n"
          ]
        }
      ]
    },
    {
      "cell_type": "code",
      "metadata": {
        "colab": {
          "base_uri": "https://localhost:8080/"
        },
        "id": "g3lvU8rPNK7K",
        "outputId": "ba8d9e8e-e99a-4490-cbf6-d4312eb3eaaf"
      },
      "source": [
        "# note: no changes are reflected in out dataset\n",
        "print(dataset)"
      ],
      "execution_count": 55,
      "outputs": [
        {
          "output_type": "stream",
          "name": "stdout",
          "text": [
            "   Country   Age   Salary Purchased\n",
            "0   France  44.0  72000.0        No\n",
            "1    Spain  27.0  48000.0       Yes\n",
            "2  Germany  30.0  54000.0        No\n",
            "3    Spain  38.0  61000.0        No\n",
            "4  Germany  40.0      NaN       Yes\n",
            "5   France  35.0  58000.0       Yes\n",
            "6    Spain   NaN  52000.0        No\n",
            "7   France  48.0  79000.0       Yes\n",
            "8      NaN  50.0  83000.0        No\n",
            "9   France  37.0  67000.0       Yes\n"
          ]
        }
      ]
    },
    {
      "cell_type": "markdown",
      "metadata": {
        "id": "JgGfr1nZSbvY"
      },
      "source": [
        "**Encoding categorical Data in independent variables (features)**  \n",
        "Machine Learning models only accept numerical data, therfore all the textual data/ catergorical data/ strings are to be replaced with numerical values.\n",
        "if the data is ordinal, we can replace them with 0,1,2....\n",
        "if the data is nominal, we can replace them with "
      ]
    },
    {
      "cell_type": "code",
      "metadata": {
        "id": "aEXPCLvzSQUx"
      },
      "source": [
        "from sklearn.compose import ColumnTransformer\n",
        "from sklearn.preprocessing import OneHotEncoder\n",
        "col_trans = ColumnTransformer([('encoder', OneHotEncoder(), [0] )], remainder='passthrough')\n",
        "X = np.array(col_trans.fit_transform(X))"
      ],
      "execution_count": 56,
      "outputs": []
    },
    {
      "cell_type": "code",
      "metadata": {
        "colab": {
          "base_uri": "https://localhost:8080/"
        },
        "id": "BpZSfeHANwod",
        "outputId": "551ce9e8-3ca2-4d01-a230-ba310c54c789"
      },
      "source": [
        "# France is replaced with 1,0,0 \n",
        "# Spain with 0,0,1 and\n",
        "# Germany with 0,1,0\n",
        "print(X)"
      ],
      "execution_count": 57,
      "outputs": [
        {
          "output_type": "stream",
          "name": "stdout",
          "text": [
            "[[1.0 0.0 0.0 44.0 72000.0]\n",
            " [0.0 0.0 1.0 27.0 48000.0]\n",
            " [0.0 1.0 0.0 30.0 54000.0]\n",
            " [0.0 0.0 1.0 38.0 61000.0]\n",
            " [0.0 1.0 0.0 40.0 63777.77777777778]\n",
            " [1.0 0.0 0.0 35.0 58000.0]\n",
            " [0.0 0.0 1.0 38.77777777777778 52000.0]\n",
            " [1.0 0.0 0.0 48.0 79000.0]\n",
            " [1.0 0.0 0.0 50.0 83000.0]\n",
            " [1.0 0.0 0.0 37.0 67000.0]]\n"
          ]
        }
      ]
    },
    {
      "cell_type": "markdown",
      "metadata": {
        "id": "2H_GZKHOi4wS"
      },
      "source": [
        "**Encoding categorical Data in dependent variables/ Target variables (labels)**"
      ]
    },
    {
      "cell_type": "code",
      "metadata": {
        "id": "SB3RbULfaTjJ"
      },
      "source": [
        "from sklearn.preprocessing import LabelEncoder\n",
        "label_encod = LabelEncoder()\n",
        "y = label_encod.fit_transform(y)"
      ],
      "execution_count": 58,
      "outputs": []
    },
    {
      "cell_type": "code",
      "metadata": {
        "colab": {
          "base_uri": "https://localhost:8080/"
        },
        "id": "LTTQLtWHk5RB",
        "outputId": "dcf091fb-36bc-47f1-e50b-957ba4c55823"
      },
      "source": [
        "print(y)"
      ],
      "execution_count": 59,
      "outputs": [
        {
          "output_type": "stream",
          "name": "stdout",
          "text": [
            "[0 1 0 0 1 1 0 1 0 1]\n"
          ]
        }
      ]
    },
    {
      "cell_type": "code",
      "metadata": {
        "colab": {
          "base_uri": "https://localhost:8080/",
          "height": 359
        },
        "id": "SmJlnAcZllKx",
        "outputId": "0fd8167a-47fd-45a7-f646-2ecd1d5e7638"
      },
      "source": [
        "# y column (label), nothing but purchased column of our dataset, above, replaced with 1 for Yes and 0 for No using LabelEncoder\n",
        "dataset"
      ],
      "execution_count": 60,
      "outputs": [
        {
          "output_type": "execute_result",
          "data": {
            "text/html": [
              "<div>\n",
              "<style scoped>\n",
              "    .dataframe tbody tr th:only-of-type {\n",
              "        vertical-align: middle;\n",
              "    }\n",
              "\n",
              "    .dataframe tbody tr th {\n",
              "        vertical-align: top;\n",
              "    }\n",
              "\n",
              "    .dataframe thead th {\n",
              "        text-align: right;\n",
              "    }\n",
              "</style>\n",
              "<table border=\"1\" class=\"dataframe\">\n",
              "  <thead>\n",
              "    <tr style=\"text-align: right;\">\n",
              "      <th></th>\n",
              "      <th>Country</th>\n",
              "      <th>Age</th>\n",
              "      <th>Salary</th>\n",
              "      <th>Purchased</th>\n",
              "    </tr>\n",
              "  </thead>\n",
              "  <tbody>\n",
              "    <tr>\n",
              "      <th>0</th>\n",
              "      <td>France</td>\n",
              "      <td>44.0</td>\n",
              "      <td>72000.0</td>\n",
              "      <td>No</td>\n",
              "    </tr>\n",
              "    <tr>\n",
              "      <th>1</th>\n",
              "      <td>Spain</td>\n",
              "      <td>27.0</td>\n",
              "      <td>48000.0</td>\n",
              "      <td>Yes</td>\n",
              "    </tr>\n",
              "    <tr>\n",
              "      <th>2</th>\n",
              "      <td>Germany</td>\n",
              "      <td>30.0</td>\n",
              "      <td>54000.0</td>\n",
              "      <td>No</td>\n",
              "    </tr>\n",
              "    <tr>\n",
              "      <th>3</th>\n",
              "      <td>Spain</td>\n",
              "      <td>38.0</td>\n",
              "      <td>61000.0</td>\n",
              "      <td>No</td>\n",
              "    </tr>\n",
              "    <tr>\n",
              "      <th>4</th>\n",
              "      <td>Germany</td>\n",
              "      <td>40.0</td>\n",
              "      <td>NaN</td>\n",
              "      <td>Yes</td>\n",
              "    </tr>\n",
              "    <tr>\n",
              "      <th>5</th>\n",
              "      <td>France</td>\n",
              "      <td>35.0</td>\n",
              "      <td>58000.0</td>\n",
              "      <td>Yes</td>\n",
              "    </tr>\n",
              "    <tr>\n",
              "      <th>6</th>\n",
              "      <td>Spain</td>\n",
              "      <td>NaN</td>\n",
              "      <td>52000.0</td>\n",
              "      <td>No</td>\n",
              "    </tr>\n",
              "    <tr>\n",
              "      <th>7</th>\n",
              "      <td>France</td>\n",
              "      <td>48.0</td>\n",
              "      <td>79000.0</td>\n",
              "      <td>Yes</td>\n",
              "    </tr>\n",
              "    <tr>\n",
              "      <th>8</th>\n",
              "      <td>NaN</td>\n",
              "      <td>50.0</td>\n",
              "      <td>83000.0</td>\n",
              "      <td>No</td>\n",
              "    </tr>\n",
              "    <tr>\n",
              "      <th>9</th>\n",
              "      <td>France</td>\n",
              "      <td>37.0</td>\n",
              "      <td>67000.0</td>\n",
              "      <td>Yes</td>\n",
              "    </tr>\n",
              "  </tbody>\n",
              "</table>\n",
              "</div>"
            ],
            "text/plain": [
              "   Country   Age   Salary Purchased\n",
              "0   France  44.0  72000.0        No\n",
              "1    Spain  27.0  48000.0       Yes\n",
              "2  Germany  30.0  54000.0        No\n",
              "3    Spain  38.0  61000.0        No\n",
              "4  Germany  40.0      NaN       Yes\n",
              "5   France  35.0  58000.0       Yes\n",
              "6    Spain   NaN  52000.0        No\n",
              "7   France  48.0  79000.0       Yes\n",
              "8      NaN  50.0  83000.0        No\n",
              "9   France  37.0  67000.0       Yes"
            ]
          },
          "metadata": {},
          "execution_count": 60
        }
      ]
    },
    {
      "cell_type": "markdown",
      "metadata": {
        "id": "_P2b2ftDJEp5"
      },
      "source": [
        "**Splitting Data**  \n",
        "Data should be split before feature scaling"
      ]
    },
    {
      "cell_type": "code",
      "metadata": {
        "id": "zO7pauqjmAQh"
      },
      "source": [
        "# splitting data in ratio 0.8,for  train, is to 0.2, for test\n",
        "from sklearn.model_selection import train_test_split\n",
        "X_train, X_test, y_train, y_test = train_test_split(X, y, test_size=0.2, random_state=1)"
      ],
      "execution_count": 61,
      "outputs": []
    },
    {
      "cell_type": "markdown",
      "metadata": {
        "id": "dVgfuqF7J6jk"
      },
      "source": [
        "Feature Scaling"
      ]
    },
    {
      "cell_type": "code",
      "metadata": {
        "id": "DsZz8mg4I9Jn"
      },
      "source": [
        "# feature scaling should not be applied to the resultant features of encoded categorical column\n",
        "from sklearn.preprocessing import StandardScaler\n",
        "Std_Scaler = StandardScaler()\n",
        "X_train[:, 3:] = Std_Scaler.fit_transform(X_train[:, 3:])\n",
        "X_test[:, 3:] = Std_Scaler.transform(X_test[:, 3:])"
      ],
      "execution_count": 62,
      "outputs": []
    },
    {
      "cell_type": "code",
      "metadata": {
        "colab": {
          "base_uri": "https://localhost:8080/"
        },
        "id": "5pqEB5kzPxPy",
        "outputId": "687436e4-d5b0-440f-c539-39cd704c2c91"
      },
      "source": [
        "X_train"
      ],
      "execution_count": 63,
      "outputs": [
        {
          "output_type": "execute_result",
          "data": {
            "text/plain": [
              "array([[0.0, 0.0, 1.0, -0.19159184384578545, -1.0781259408412425],\n",
              "       [0.0, 1.0, 0.0, -0.014117293757057777, -0.07013167641635372],\n",
              "       [1.0, 0.0, 0.0, 0.566708506533324, 0.633562432710455],\n",
              "       [0.0, 0.0, 1.0, -0.30453019390224867, -0.30786617274297867],\n",
              "       [0.0, 0.0, 1.0, -1.9018011447007988, -1.420463615551582],\n",
              "       [1.0, 0.0, 0.0, 1.1475343068237058, 1.232653363453549],\n",
              "       [1.0, 0.0, 0.0, 1.4379472069688968, 1.5749910381638885],\n",
              "       [1.0, 0.0, 0.0, -0.7401495441200351, -0.5646194287757332]],\n",
              "      dtype=object)"
            ]
          },
          "metadata": {},
          "execution_count": 63
        }
      ]
    },
    {
      "cell_type": "code",
      "metadata": {
        "colab": {
          "base_uri": "https://localhost:8080/"
        },
        "id": "pEmOxDyMP46z",
        "outputId": "392883a0-648d-4480-8c1e-e091b7521d93"
      },
      "source": [
        "X_test"
      ],
      "execution_count": 64,
      "outputs": [
        {
          "output_type": "execute_result",
          "data": {
            "text/plain": [
              "array([[0.0, 1.0, 0.0, -1.4661817944830124, -0.9069571034860727],\n",
              "       [1.0, 0.0, 0.0, -0.44973664397484414, 0.2056403393225306]],\n",
              "      dtype=object)"
            ]
          },
          "metadata": {},
          "execution_count": 64
        }
      ]
    },
    {
      "cell_type": "markdown",
      "metadata": {
        "id": "Btin_9G4Rqsi"
      },
      "source": [
        "Now you are ready to feed a dataset into your machine learning model of choice."
      ]
    }
  ]
}