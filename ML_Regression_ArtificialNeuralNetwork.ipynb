{
  "nbformat": 4,
  "nbformat_minor": 0,
  "metadata": {
    "colab": {
      "name": "ML_Regression_ArtificialNeuralNetwork",
      "provenance": [],
      "collapsed_sections": [],
      "include_colab_link": true
    },
    "kernelspec": {
      "name": "python3",
      "display_name": "Python 3"
    }
  },
  "cells": [
    {
      "cell_type": "markdown",
      "metadata": {
        "id": "view-in-github",
        "colab_type": "text"
      },
      "source": [
        "<a href=\"https://colab.research.google.com/github/abm4github/Machine-Learning-Beginners/blob/main/ML_Regression_ArtificialNeuralNetwork.ipynb\" target=\"_parent\"><img src=\"https://colab.research.google.com/assets/colab-badge.svg\" alt=\"Open In Colab\"/></a>"
      ]
    },
    {
      "cell_type": "markdown",
      "metadata": {
        "id": "3cbb7fRy-eyr"
      },
      "source": [
        "# Artificial Neural Network"
      ]
    },
    {
      "cell_type": "markdown",
      "metadata": {
        "id": "8sNDnxE2-pwE"
      },
      "source": [
        "### Importing the libraries"
      ]
    },
    {
      "cell_type": "code",
      "metadata": {
        "id": "lxChR1Rk-umf"
      },
      "source": [
        "import numpy as np\n",
        "import pandas as pd\n",
        "import tensorflow as tf"
      ],
      "execution_count": 1,
      "outputs": []
    },
    {
      "cell_type": "code",
      "metadata": {
        "id": "uBTqR3nacj0e",
        "colab": {
          "base_uri": "https://localhost:8080/",
          "height": 35
        },
        "outputId": "cbefc0be-7957-472c-81e0-52274569d449"
      },
      "source": [
        "tf.__version__"
      ],
      "execution_count": 2,
      "outputs": [
        {
          "output_type": "execute_result",
          "data": {
            "application/vnd.google.colaboratory.intrinsic+json": {
              "type": "string"
            },
            "text/plain": [
              "'2.6.0'"
            ]
          },
          "metadata": {},
          "execution_count": 2
        }
      ]
    },
    {
      "cell_type": "markdown",
      "metadata": {
        "id": "AG3FQEch-yuA"
      },
      "source": [
        "## Part 1 - Data Preprocessing"
      ]
    },
    {
      "cell_type": "markdown",
      "metadata": {
        "id": "-4zq8Mza_D9O"
      },
      "source": [
        "### Importing the dataset"
      ]
    },
    {
      "cell_type": "code",
      "metadata": {
        "id": "B9CV13Co_HHM"
      },
      "source": [
        "dataset = pd.read_excel('Folds5x2_pp.xlsx')\n",
        "X = dataset.iloc[:, :-1].values\n",
        "y = dataset.iloc[:, -1].values"
      ],
      "execution_count": 3,
      "outputs": []
    },
    {
      "cell_type": "markdown",
      "metadata": {
        "id": "VC6omXel_Up0"
      },
      "source": [
        "### Splitting the dataset into the Training set and Test set"
      ]
    },
    {
      "cell_type": "code",
      "metadata": {
        "id": "L5edeb2r_agx"
      },
      "source": [
        "from sklearn.model_selection import train_test_split\n",
        "X_train, X_test, y_train, y_test = train_test_split(X, y, test_size = 0.2, random_state = 0)"
      ],
      "execution_count": 4,
      "outputs": []
    },
    {
      "cell_type": "markdown",
      "metadata": {
        "id": "_mSLlAT9_eyI"
      },
      "source": [
        "## Part 2 - Building the ANN"
      ]
    },
    {
      "cell_type": "markdown",
      "metadata": {
        "id": "CsBULd_f_wLY"
      },
      "source": [
        "### Initializing the ANN"
      ]
    },
    {
      "cell_type": "code",
      "metadata": {
        "id": "J6Hd97Ls__Nz"
      },
      "source": [
        "ann = tf.keras.models.Sequential()"
      ],
      "execution_count": 6,
      "outputs": []
    },
    {
      "cell_type": "markdown",
      "metadata": {
        "id": "iitAFJS_ABUn"
      },
      "source": [
        "### Adding the input layer and the first hidden layer"
      ]
    },
    {
      "cell_type": "code",
      "metadata": {
        "id": "ksO_Vv40AHix"
      },
      "source": [
        "ann.add(tf.keras.layers.Dense(units=6, activation='relu'))"
      ],
      "execution_count": 7,
      "outputs": []
    },
    {
      "cell_type": "markdown",
      "metadata": {
        "id": "-lb4kK_wAKbs"
      },
      "source": [
        "### Adding the second hidden layer"
      ]
    },
    {
      "cell_type": "code",
      "metadata": {
        "id": "c2357OqEAQOQ"
      },
      "source": [
        "ann.add(tf.keras.layers.Dense(units=6, activation='relu'))"
      ],
      "execution_count": 8,
      "outputs": []
    },
    {
      "cell_type": "markdown",
      "metadata": {
        "id": "jwMOmKb3AdBY"
      },
      "source": [
        "### Adding the output layer"
      ]
    },
    {
      "cell_type": "code",
      "metadata": {
        "id": "YFATpzsUAkLL"
      },
      "source": [
        "ann.add(tf.keras.layers.Dense(units=1))"
      ],
      "execution_count": 9,
      "outputs": []
    },
    {
      "cell_type": "markdown",
      "metadata": {
        "id": "fq7e4fF6A1yy"
      },
      "source": [
        "## Part 3 - Training the ANN"
      ]
    },
    {
      "cell_type": "markdown",
      "metadata": {
        "id": "qDeylAs2An25"
      },
      "source": [
        "### Compiling the ANN"
      ]
    },
    {
      "cell_type": "code",
      "metadata": {
        "id": "pesgbWlCAtB4"
      },
      "source": [
        "ann.compile(optimizer = 'adam', loss = 'mean_squared_error')"
      ],
      "execution_count": 10,
      "outputs": []
    },
    {
      "cell_type": "markdown",
      "metadata": {
        "id": "YjVuiybYOo7r"
      },
      "source": [
        "### Training the ANN model on the Training set"
      ]
    },
    {
      "cell_type": "code",
      "metadata": {
        "id": "c_vV-tiiA5zn",
        "colab": {
          "base_uri": "https://localhost:8080/"
        },
        "outputId": "92d20723-67f6-4768-b208-c92aa816c397"
      },
      "source": [
        "ann.fit(X_train, y_train, batch_size = 32, epochs = 100)"
      ],
      "execution_count": 11,
      "outputs": [
        {
          "output_type": "stream",
          "name": "stdout",
          "text": [
            "Epoch 1/100\n",
            "240/240 [==============================] - 1s 1ms/step - loss: 83006.7734\n",
            "Epoch 2/100\n",
            "240/240 [==============================] - 0s 1ms/step - loss: 523.3368\n",
            "Epoch 3/100\n",
            "240/240 [==============================] - 0s 1ms/step - loss: 456.7436\n",
            "Epoch 4/100\n",
            "240/240 [==============================] - 0s 1ms/step - loss: 441.4535\n",
            "Epoch 5/100\n",
            "240/240 [==============================] - 0s 1ms/step - loss: 424.7475\n",
            "Epoch 6/100\n",
            "240/240 [==============================] - 0s 1ms/step - loss: 405.6179\n",
            "Epoch 7/100\n",
            "240/240 [==============================] - 0s 1ms/step - loss: 384.9545\n",
            "Epoch 8/100\n",
            "240/240 [==============================] - 0s 1ms/step - loss: 362.6404\n",
            "Epoch 9/100\n",
            "240/240 [==============================] - 0s 1ms/step - loss: 340.2475\n",
            "Epoch 10/100\n",
            "240/240 [==============================] - 0s 1ms/step - loss: 315.8011\n",
            "Epoch 11/100\n",
            "240/240 [==============================] - 0s 1ms/step - loss: 290.8180\n",
            "Epoch 12/100\n",
            "240/240 [==============================] - 0s 1ms/step - loss: 266.6047\n",
            "Epoch 13/100\n",
            "240/240 [==============================] - 0s 1ms/step - loss: 241.9217\n",
            "Epoch 14/100\n",
            "240/240 [==============================] - 0s 1ms/step - loss: 218.3374\n",
            "Epoch 15/100\n",
            "240/240 [==============================] - 0s 1ms/step - loss: 195.7479\n",
            "Epoch 16/100\n",
            "240/240 [==============================] - 0s 1ms/step - loss: 174.7188\n",
            "Epoch 17/100\n",
            "240/240 [==============================] - 0s 1ms/step - loss: 154.4164\n",
            "Epoch 18/100\n",
            "240/240 [==============================] - 0s 1ms/step - loss: 136.9281\n",
            "Epoch 19/100\n",
            "240/240 [==============================] - 0s 1ms/step - loss: 121.1673\n",
            "Epoch 20/100\n",
            "240/240 [==============================] - 0s 1ms/step - loss: 106.2600\n",
            "Epoch 21/100\n",
            "240/240 [==============================] - 0s 1ms/step - loss: 93.6038\n",
            "Epoch 22/100\n",
            "240/240 [==============================] - 0s 1ms/step - loss: 83.0098\n",
            "Epoch 23/100\n",
            "240/240 [==============================] - 0s 1ms/step - loss: 73.4801\n",
            "Epoch 24/100\n",
            "240/240 [==============================] - 0s 1ms/step - loss: 65.4624\n",
            "Epoch 25/100\n",
            "240/240 [==============================] - 0s 1ms/step - loss: 58.5434\n",
            "Epoch 26/100\n",
            "240/240 [==============================] - 0s 1ms/step - loss: 52.9931\n",
            "Epoch 27/100\n",
            "240/240 [==============================] - 0s 1ms/step - loss: 47.8188\n",
            "Epoch 28/100\n",
            "240/240 [==============================] - 0s 1ms/step - loss: 43.8405\n",
            "Epoch 29/100\n",
            "240/240 [==============================] - 0s 1ms/step - loss: 40.6325\n",
            "Epoch 30/100\n",
            "240/240 [==============================] - 0s 1ms/step - loss: 38.4164\n",
            "Epoch 31/100\n",
            "240/240 [==============================] - 0s 1ms/step - loss: 36.3824\n",
            "Epoch 32/100\n",
            "240/240 [==============================] - 0s 1ms/step - loss: 35.0754\n",
            "Epoch 33/100\n",
            "240/240 [==============================] - 0s 1ms/step - loss: 33.9757\n",
            "Epoch 34/100\n",
            "240/240 [==============================] - 0s 1ms/step - loss: 32.8485\n",
            "Epoch 35/100\n",
            "240/240 [==============================] - 0s 1ms/step - loss: 32.0833\n",
            "Epoch 36/100\n",
            "240/240 [==============================] - 0s 1ms/step - loss: 31.6465\n",
            "Epoch 37/100\n",
            "240/240 [==============================] - 0s 1ms/step - loss: 31.0696\n",
            "Epoch 38/100\n",
            "240/240 [==============================] - 0s 1ms/step - loss: 30.6132\n",
            "Epoch 39/100\n",
            "240/240 [==============================] - 0s 1ms/step - loss: 30.0413\n",
            "Epoch 40/100\n",
            "240/240 [==============================] - 0s 1ms/step - loss: 30.2436\n",
            "Epoch 41/100\n",
            "240/240 [==============================] - 0s 1ms/step - loss: 29.3394\n",
            "Epoch 42/100\n",
            "240/240 [==============================] - 0s 1ms/step - loss: 29.5175\n",
            "Epoch 43/100\n",
            "240/240 [==============================] - 0s 1ms/step - loss: 28.5948\n",
            "Epoch 44/100\n",
            "240/240 [==============================] - 0s 1ms/step - loss: 28.8449\n",
            "Epoch 45/100\n",
            "240/240 [==============================] - 0s 1ms/step - loss: 28.8323\n",
            "Epoch 46/100\n",
            "240/240 [==============================] - 0s 1ms/step - loss: 28.0896\n",
            "Epoch 47/100\n",
            "240/240 [==============================] - 0s 1ms/step - loss: 27.9080\n",
            "Epoch 48/100\n",
            "240/240 [==============================] - 0s 1ms/step - loss: 28.2769\n",
            "Epoch 49/100\n",
            "240/240 [==============================] - 0s 1ms/step - loss: 27.8939\n",
            "Epoch 50/100\n",
            "240/240 [==============================] - 0s 1ms/step - loss: 27.4873\n",
            "Epoch 51/100\n",
            "240/240 [==============================] - 0s 1ms/step - loss: 27.3797\n",
            "Epoch 52/100\n",
            "240/240 [==============================] - 0s 1ms/step - loss: 27.3577\n",
            "Epoch 53/100\n",
            "240/240 [==============================] - 0s 1ms/step - loss: 27.0780\n",
            "Epoch 54/100\n",
            "240/240 [==============================] - 0s 1ms/step - loss: 27.2552\n",
            "Epoch 55/100\n",
            "240/240 [==============================] - 0s 1ms/step - loss: 27.0074\n",
            "Epoch 56/100\n",
            "240/240 [==============================] - 0s 1ms/step - loss: 26.7472\n",
            "Epoch 57/100\n",
            "240/240 [==============================] - 0s 1ms/step - loss: 27.2137\n",
            "Epoch 58/100\n",
            "240/240 [==============================] - 0s 1ms/step - loss: 27.2138\n",
            "Epoch 59/100\n",
            "240/240 [==============================] - 0s 1ms/step - loss: 26.9878\n",
            "Epoch 60/100\n",
            "240/240 [==============================] - 0s 1ms/step - loss: 26.5644\n",
            "Epoch 61/100\n",
            "240/240 [==============================] - 0s 1ms/step - loss: 26.9393\n",
            "Epoch 62/100\n",
            "240/240 [==============================] - 0s 1ms/step - loss: 26.6306\n",
            "Epoch 63/100\n",
            "240/240 [==============================] - 0s 1ms/step - loss: 26.6380\n",
            "Epoch 64/100\n",
            "240/240 [==============================] - 0s 1ms/step - loss: 26.5559\n",
            "Epoch 65/100\n",
            "240/240 [==============================] - 0s 1ms/step - loss: 26.7904\n",
            "Epoch 66/100\n",
            "240/240 [==============================] - 0s 1ms/step - loss: 26.5476\n",
            "Epoch 67/100\n",
            "240/240 [==============================] - 0s 1ms/step - loss: 26.9953\n",
            "Epoch 68/100\n",
            "240/240 [==============================] - 0s 1ms/step - loss: 27.1023\n",
            "Epoch 69/100\n",
            "240/240 [==============================] - 0s 1ms/step - loss: 26.7148\n",
            "Epoch 70/100\n",
            "240/240 [==============================] - 0s 1ms/step - loss: 26.7128\n",
            "Epoch 71/100\n",
            "240/240 [==============================] - 0s 1ms/step - loss: 26.5742\n",
            "Epoch 72/100\n",
            "240/240 [==============================] - 0s 1ms/step - loss: 26.8961\n",
            "Epoch 73/100\n",
            "240/240 [==============================] - 0s 1ms/step - loss: 26.3344\n",
            "Epoch 74/100\n",
            "240/240 [==============================] - 0s 1ms/step - loss: 26.7456\n",
            "Epoch 75/100\n",
            "240/240 [==============================] - 0s 1ms/step - loss: 26.5376\n",
            "Epoch 76/100\n",
            "240/240 [==============================] - 0s 1ms/step - loss: 26.5103\n",
            "Epoch 77/100\n",
            "240/240 [==============================] - 0s 1ms/step - loss: 26.9473\n",
            "Epoch 78/100\n",
            "240/240 [==============================] - 0s 1ms/step - loss: 26.4038\n",
            "Epoch 79/100\n",
            "240/240 [==============================] - 0s 1ms/step - loss: 26.4576\n",
            "Epoch 80/100\n",
            "240/240 [==============================] - 0s 1ms/step - loss: 26.7084\n",
            "Epoch 81/100\n",
            "240/240 [==============================] - 0s 1ms/step - loss: 26.8119\n",
            "Epoch 82/100\n",
            "240/240 [==============================] - 0s 1ms/step - loss: 27.1744\n",
            "Epoch 83/100\n",
            "240/240 [==============================] - 0s 1ms/step - loss: 26.6066\n",
            "Epoch 84/100\n",
            "240/240 [==============================] - 0s 1ms/step - loss: 26.5523\n",
            "Epoch 85/100\n",
            "240/240 [==============================] - 0s 1ms/step - loss: 26.5051\n",
            "Epoch 86/100\n",
            "240/240 [==============================] - 0s 1ms/step - loss: 26.8096\n",
            "Epoch 87/100\n",
            "240/240 [==============================] - 0s 1ms/step - loss: 26.5247\n",
            "Epoch 88/100\n",
            "240/240 [==============================] - 0s 1ms/step - loss: 26.8716\n",
            "Epoch 89/100\n",
            "240/240 [==============================] - 0s 1ms/step - loss: 26.5900\n",
            "Epoch 90/100\n",
            "240/240 [==============================] - 0s 1ms/step - loss: 26.6625\n",
            "Epoch 91/100\n",
            "240/240 [==============================] - 0s 1ms/step - loss: 26.7285\n",
            "Epoch 92/100\n",
            "240/240 [==============================] - 0s 1ms/step - loss: 26.5547\n",
            "Epoch 93/100\n",
            "240/240 [==============================] - 0s 1ms/step - loss: 26.2798\n",
            "Epoch 94/100\n",
            "240/240 [==============================] - 0s 1ms/step - loss: 26.4294\n",
            "Epoch 95/100\n",
            "240/240 [==============================] - 0s 1ms/step - loss: 26.5466\n",
            "Epoch 96/100\n",
            "240/240 [==============================] - 0s 1ms/step - loss: 26.4014\n",
            "Epoch 97/100\n",
            "240/240 [==============================] - 0s 1ms/step - loss: 26.4973\n",
            "Epoch 98/100\n",
            "240/240 [==============================] - 0s 1ms/step - loss: 26.5713\n",
            "Epoch 99/100\n",
            "240/240 [==============================] - 0s 1ms/step - loss: 26.3823\n",
            "Epoch 100/100\n",
            "240/240 [==============================] - 0s 1ms/step - loss: 26.8057\n"
          ]
        },
        {
          "output_type": "execute_result",
          "data": {
            "text/plain": [
              "<keras.callbacks.History at 0x7f46b203c3d0>"
            ]
          },
          "metadata": {},
          "execution_count": 11
        }
      ]
    },
    {
      "cell_type": "markdown",
      "metadata": {
        "id": "0H0zKKNEBLD5"
      },
      "source": [
        "### Predicting the results of the Test set"
      ]
    },
    {
      "cell_type": "code",
      "metadata": {
        "id": "IA0yApEmBG1X",
        "colab": {
          "base_uri": "https://localhost:8080/"
        },
        "outputId": "b9523475-c27e-429d-db54-d6fe746e7312"
      },
      "source": [
        "y_pred = ann.predict(X_test)\n",
        "np.set_printoptions(precision=2)\n",
        "print(np.concatenate((y_pred.reshape(len(y_pred),1), y_test.reshape(len(y_test),1)),1))"
      ],
      "execution_count": 12,
      "outputs": [
        {
          "output_type": "stream",
          "name": "stdout",
          "text": [
            "[[432.56 431.23]\n",
            " [463.61 460.01]\n",
            " [467.09 461.14]\n",
            " ...\n",
            " [474.34 473.26]\n",
            " [441.13 438.  ]\n",
            " [460.33 463.28]]\n"
          ]
        }
      ]
    }
  ]
}